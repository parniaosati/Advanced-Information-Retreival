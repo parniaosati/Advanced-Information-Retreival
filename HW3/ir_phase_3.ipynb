{
  "cells": [
    {
      "attachments": {},
      "cell_type": "markdown",
      "metadata": {
        "id": "4PwhgQYY9L0U",
        "pycharm": {
          "name": "#%% md\n"
        }
      },
      "source": [
        "<div style=\"direction:rtl;line-height:300%;\">\n",
        "<font face=\"XB Zar\" size=5>\n",
        "<div align=center>\n",
        "<font face=\"B Titr\" size=5>\n",
        "<p></p><p></p>\n",
        "بسمه تعالی\n",
        "<p></p>\n",
        "</font>\n",
        "<p></p>\n",
        "<font>\n",
        "<br>\n",
        "درس بازیابی پیشرفته اطلاعات\n",
        "<br>\n",
        "مدرس: دکتر سلیمانی\n",
        "</font>\n",
        "<p></p>\n",
        "<br>\n",
        "<font>\n",
        "<b>فاز سوم پروژه</b>\n",
        "</font>\n",
        "<br>\n",
        "<br>\n",
        "موعد تحویل:  ساعت ۶ صبح ۸ تیر<br>\n",
        "<br>\n",
        "<br>\n",
        "<br>\n",
        "<font>\n",
        "دانشگاه صنعتی شریف\n",
        "<br>\n",
        "دانشکده مهندسی کامپیوتر\n",
        "<br>\n",
        "<br>\n",
        "</font>\n",
        "</div>\n",
        "</font>\n",
        "</div>"
      ]
    },
    {
      "attachments": {},
      "cell_type": "markdown",
      "metadata": {
        "id": "rAZDMRde9L0V",
        "pycharm": {
          "name": "#%% md\n"
        }
      },
      "source": [
        "<div dir=\"rtl\">\n",
        "<font face=\"XB Zar\" size=5>\n",
        "    <h1>\n",
        "    <b>مقدمه</b>\n",
        "    </h1>\n",
        "    <p></p>\n",
        "    <p></p>\n",
        "</font>\n",
        "<font face=\"XB Zar\" size=3>\n",
        "     <br>\n",
        "    در این فاز از پروژه، تمرکز ما بر\n",
        "    crawling\n",
        "    و تحلیل مقالات استخراج‌شده از اینترنت خواهد بود. ما با بررسی تکنیک های مختلف  \n",
        "    web crawling\n",
        "    برای استخراج مقالات و سایر اطلاعات مرتبط از وب شروع خواهیم کرد.\n",
        "    <br>\n",
        "    در مرحله بعد، الگوریتم های تجزیه و تحلیل  لینک مانند\n",
        "    PageRank\n",
        "    و\n",
        "    HITS\n",
        "    را برای تعیین اهمیت این مقالات بر اساس نقل قول‌ها، ارجاعات یا اشکال دیگر پیوندها اعمال خواهیم‌کرد. ما همچنین یاد خواهیم‌گرفت که چگونه یک الگوریتم\n",
        "    PageRank\n",
        "    شخصی‌سازی‌شده را پیاده‌سازی کنیم که ترجیحات کاربر را برای ارائه نتایج مرتبط تر در نظر می‌گیرد.\n",
        "    <br>\n",
        "    در بخش سوم این مرحله، یک موتور جستجوی شخصی‌سازی شده را پیاده‌سازی میکنیم و یاد می‌گیریم که چگونه موتور جستجویی بسازیم که نتایجی را بر اساس ترجیحات کاربر ارائه دهد.\n",
        "    <br>\n",
        "در نهایت، ما یک\n",
        "    task\n",
        "     در مورد\n",
        "    recommendation system\n",
        "    ها خواهیم‌داشت، که در آن از تکنیک های مختلف برای توصیه مقالات یا صفحات وب به کاربران بر اساس ترجیحات و رفتار آنها استفاده خواهیم کرد.\n",
        "    <br>\n",
        "     تنها زبان قابل قبول برای پروژه پایتون است. محدودیت استفاده از کتاب‌خانه‌های آماده در هر بخش مشخص شده است. در انتهای پروژه قرار است یک سیستم یکپارچه‌ی جست‌و‌جو داشته باشید، بنابراین به پیاده‌سازی هر چه بهتر این فاز توجه داشته باشید.\n",
        "</font>\n",
        "</div>\n",
        "   "
      ]
    },
    {
      "attachments": {},
      "cell_type": "markdown",
      "metadata": {
        "collapsed": false,
        "id": "BSRkzDzT9L0V",
        "pycharm": {
          "name": "#%% md\n"
        }
      },
      "source": [
        "<div dir=\"rtl\">\n",
        "<font face=\"XB Zar\" size=4>\n",
        "    <h1>\n",
        "    <b>پیاده‌سازی Crawler (۴۰ نمره)</b>\n",
        "    </h1>\n",
        "</font>\n",
        "    <br>\n",
        "\n",
        "<font face=\"XB Zar\" size=3>\n",
        "   در این بخش باید یک Crawler\n",
        "    برای واکشی اطلاعات تعدادی مقاله از سایت <a href=\"https://www.semanticscholar.org/\">Semantic Scholar</a> پیاده سازی کنید.\n",
        "   اطلاعات واکشی شده باید حاوی موارد زیر باشد.\n",
        "</font>\n",
        "</div>\n",
        "<br>\n",
        "<table dir=\"ltr\" style=\"width: 100%; border-collapse: collapse;\">\n",
        "  <tr>\n",
        "    <th style=\"padding: 8px; text-align: justify; border: 1px solid black;\">ID</th>\n",
        "    <th style=\"padding: 8px; text-align: justify; border: 1px solid black;\">Title</th>\n",
        "    <th style=\"padding: 8px; text-align: justify; border: 1px solid black;\">Abstract</th>\n",
        "    <th style=\"padding: 8px; text-align: justify; border: 1px solid black;\">Publication Year</th>\n",
        "    <th style=\"padding: 8px; text-align: justify; border: 1px solid black;\">Authors</th>\n",
        "    <th style=\"padding: 8px; text-align: justify; border: 1px solid black;\">Related Topics</th>\n",
        "    <th style=\"padding: 8px; text-align: justify; border: 1px solid black;\">Citation Count</th>\n",
        "    <th style=\"padding: 8px; text-align: justify; border: 1px solid black;\">Reference Count</th>\n",
        "    <th style=\"padding: 8px; text-align: justify; border: 1px solid black;\">References</th>\n",
        "  </tr>\n",
        "  <tr>\n",
        "    <td style=\"padding: 8px; text-align: justify; border: 1px solid black;\">Unique ID of the paper</td>\n",
        "    <td style=\"padding: 8px; text-align: justify; border: 1px solid black;\">Title of the paper</td>\n",
        "    <td style=\"padding: 8px; text-align: justify; border: 1px solid black;\">Abstract of the paper</td>\n",
        "    <td style=\"padding: 8px; text-align: justify; border: 1px solid black;\">Publication year</td>\n",
        "    <td style=\"padding: 8px; text-align: justify; border: 1px solid black;\">Name of the first author, ..., Name of the last author</td>\n",
        "    <td style=\"padding: 8px; text-align: justify; border: 1px solid black;\">topic1, topic2, ...</td>\n",
        "    <td style=\"padding: 8px; text-align: justify; border: 1px solid black;\">number of citations of the paper</td>\n",
        "    <td style=\"padding: 8px; text-align: justify; border: 1px solid black;\">number of references of the paper</td>\n",
        "    <td style=\"padding: 8px; text-align: justify; border: 1px solid black;\">ID of the first reference, ..., ID of the tenth reference</td>\n",
        "  </tr>\n",
        "</table>\n",
        "    <br>"
      ]
    },
    {
      "attachments": {},
      "cell_type": "markdown",
      "metadata": {
        "collapsed": false,
        "id": "CF3M40gz9L0W",
        "pycharm": {
          "name": "#%% md\n"
        }
      },
      "source": [
        "<div dir=\"rtl\">\n",
        "\n",
        "<font face=\"XB Zar\" size=3>\n",
        "  ابتدا فرایند واکشی را از ۵ مقاله‌ی هر استاد شروع کنید و\n",
        "    ۱۰\n",
        "    مرجع اول هر مقاله را به صف مقالات اضافه کنید.\n",
        "    فرایند واکشی را نا جایی ادامه دهید که اطلاعات ۲۰۰۰ مقاله را داشته باشید.\n",
        "    اطلاعات مقالات را در فایل crawled_paper_profName.json ذخیره کنید.\n",
        "</font>\n",
        "</div>\n",
        "\n",
        "<div dir=\"rtl\">\n",
        "\n",
        "<font face=\"XB Zar\" size=3>\n",
        "  در پیاده سازی Crawler به موارد زیر دقت کنید.\n",
        "    \n",
        "    \n",
        "<ul>\n",
        "<li>حق استفاده از api سایت semantic scholar را ندارید.</li>\n",
        "<li>برای واکشی می‌توانید از پکیج‌هایی مثل <a href=\"https://www.selenium.dev/selenium/docs/api/py/\">Selenium</a> و یا <a href=\"https://github.com/scrapy/scrapy\">Scrapy</a>  استفاده کنید. استفاده از پکیج‌های دیگر نیز مجاز است. همچنین برای پارس اطلاعات واکشی شده می‌توانید از پکیج <a href=\"https://pypi.org/project/beautifulsoup4/\">Beautiful Soup</a> استفاده کنید.\n",
        "</li>\n",
        "<li>بین هر بار درخواست از سایت یک فاصله چند ثانیه‌ای بدهید.</li>\n",
        "<li>در زمان تحویل کد Crawler شما اجرا خواهد شد و صحت آن بررسی خواهد شد.</li>\n",
        "<li>در صورتی که ‌Crawler شما به دچار اروری مثل request timeout شد نباید کار خود را متوقف کند.</li>\n",
        "</ul>\n",
        "\n",
        "\n",
        "</font>\n",
        "</div>"
      ]
    },
    {
      "attachments": {},
      "cell_type": "markdown",
      "metadata": {
        "collapsed": false,
        "id": "oew7d5h99L0W",
        "pycharm": {
          "name": "#%% md\n"
        }
      },
      "source": [
        "<div dir=\"rtl\">\n",
        "<font face=\"XB Zar\" size=4>\n",
        "    <h1>\n",
        "    <b>PageRank\n",
        "        شخصی‌سازی‌شده\n",
        "        (۲۰ نمره)</b>\n",
        "    </h1>\n",
        "</font>\n",
        "    <br>\n",
        "<font face=\"XB Zar\" size=3>\n",
        "در این بخش، الگوریتم\n",
        "    PageRank\n",
        "    شخصی‌سازی‌شده را پیاده‌سازی می‌کنیم که توسعه‌ای از الگوریتم\n",
        "    PageRank\n",
        "    است که ترجیحات کاربر را در نظر می‌گیرد. الگوریتم\n",
        "    PageRank\n",
        "    شخصی‌سازی‌شده گره‌ها را در یک گراف بر اساس اهمیت آنها برای کاربر رتبه‌بندی می‌کند، نه بر اساس اهمیت کلی آنها در نمودار.\n",
        "    \n",
        "</font>\n",
        "</div>"
      ]
    },
    {
      "cell_type": "code",
      "execution_count": 1,
      "metadata": {
        "id": "owkq-TTSCr_A"
      },
      "outputs": [],
      "source": [
        "from collections import defaultdict\n",
        "import networkx as nx\n",
        "import json\n",
        "\n",
        "edges = []\n",
        "papers = {}\n",
        "for name in ['Kasaei', 'Rabiee', 'Rohban', 'Sharifi', 'Soleymani']:\n",
        "    for paper in json.loads(open(f'{name}.json', 'r').read()):\n",
        "        papers[paper['ID']] = paper\n",
        "        for reference in paper['References']:\n",
        "            edges.append((paper['ID'], reference))\n",
        "G = nx.DiGraph(edges)"
      ]
    },
    {
      "cell_type": "code",
      "execution_count": 2,
      "metadata": {
        "id": "BCIGVl7N9L0W",
        "pycharm": {
          "name": "#%%\n"
        }
      },
      "outputs": [],
      "source": [
        "import numpy as np\n",
        "\n",
        "def pagerank(name, df=0.8):\n",
        "    \"\"\"\n",
        "    Returns the personalized PageRank scores for the nodes in the graph, given the user's preferences.\n",
        "\n",
        "    Parameters:\n",
        "    graph (Dict[str, List[str]]): The graph represented as a dictionary of node IDs and their outgoing edges.\n",
        "\n",
        "    Returns:\n",
        "    Dict[str, float]: A dictionary of node IDs and their personalized PageRank scores.\n",
        "    \"\"\"\n",
        "    global G, papers\n",
        "\n",
        "    adj_matrix = nx.adjacency_matrix(G)\n",
        "    p = [1 if node in papers and name in papers[node]['Authors'] else 0 for node in list(G.nodes())]\n",
        "\n",
        "    p = np.array(p) / sum(p)\n",
        "    M = df * adj_matrix + (1 - df) * p\n",
        "\n",
        "    eigenvalues, eigenvectors = np.linalg.eig(M)\n",
        "    return np.array(eigenvectors[:, np.argmax(eigenvalues)]).flatten().real"
      ]
    },
    {
      "attachments": {},
      "cell_type": "markdown",
      "metadata": {
        "collapsed": false,
        "id": "ooQDJVs59L0X",
        "pycharm": {
          "name": "#%% md\n"
        }
      },
      "source": [
        "<div dir=\"rtl\">\n",
        "<font face=\"XB Zar\" size=3>\n",
        "در این بخش از الگوریتم\n",
        "PageRank\n",
        "شخصی‌سازی‌شده که در قسمت قبلی پیاده‌سازی شده‌است برای\n",
        "شناسایی مقالات مهم مرتبط با حوزه‌ی کاری یک استاد\n",
        "خاص استفاده می‌کنیم. این تابع، یک\n",
        "    field\n",
        "    را به عنوان ورودی دریافت می‌کند. خروجی نیز\n",
        "مقالات برتری که بیشترین ارتباط را با آن زمینه دارند؛ خواهدبود.\n",
        "</font>\n",
        "</div>"
      ]
    },
    {
      "cell_type": "code",
      "execution_count": 3,
      "metadata": {
        "colab": {
          "base_uri": "https://localhost:8080/"
        },
        "id": "uSXNJIA09L0X",
        "outputId": "d5d8cb1d-b67c-4e9f-8aec-0e6e344ff8c4",
        "pycharm": {
          "name": "#%%\n"
        }
      },
      "outputs": [
        {
          "name": "stdout",
          "output_type": "stream",
          "text": [
            "Ali Sharifi-Zarchi\n",
            "0e16a10560b4f7d5f891b932c79d1b2005407acf\n",
            "b9464b492f6638035d25b42f32ff3d51cb6d1e30\n",
            "31184789ef4c3084af930b1e0dede3215b4a9240\n",
            "12508951ba96b7d4c0906ed95542287d3ebdfd95\n",
            "c626a9d75dfd73e26cf30793d5ef71527cd9fa95\n",
            " - - - - - - - - - -\n",
            "Shohreh Kasaei\n",
            "c7ae0a6974e2bf7c304e7c24331e109ebe5c65c8\n",
            "7c6bb7a6d68c4c5fe6c33e9e2b5852ea7fcb17d9\n",
            "eeaba0abdc26a89d8b9e3750db344c45d3460e7c\n",
            "5f6065ef5104f20f473dfc1a8504f3b6868eb584\n",
            "ddb3de7a51958a00bb4d8fabd029317c60cd5927\n",
            " - - - - - - - - - -\n",
            "Hamid R. Rabiee\n",
            "891b02aee809c5f2c14ee3722b045393cd3266d9\n",
            "732c21998e251d64cd58b6a86886ee5907efeaa5\n",
            "2910bec6d4de87e22be5119cef3c488d2ae50e2a\n",
            "68e7f5bcb2e2c628b15a96bfa72b612bd992a8e6\n",
            "f88cfc38dec02dcf050eb1f56d2d59d90b24e04c\n",
            " - - - - - - - - - -\n",
            "Mohammad Hossein Rohban\n",
            "54e325aee6b2d476bbbb88615ac15e251c6e8214\n",
            "357733cc76e31a499a27ba2da8612174aafb3213\n",
            "9eb1b16fbd4786eaac91f308d75609b9321868ce\n",
            "571b0750085ae3d939525e62af510ee2cee9d5ea\n",
            "a7fae7dba0db74cc21a7c7b70157fe601784b681\n",
            " - - - - - - - - - -\n",
            "Mahdieh Soleymani Baghshah\n",
            "c266fc51bf6d769057de606a980988c50fc8b99e\n",
            "d29e208f57c96cac901cde1955e4e62a96b4da81\n",
            "f6461ce6d9c12248227845da006e98c0bd4b33b0\n",
            "25d7a9cc63fe4a6578fadd369277d45c46dfb781\n",
            "c4c5b3995f14fcb85affde0164addbbd4d962914\n",
            " - - - - - - - - - -\n"
          ]
        }
      ],
      "source": [
        "def important_articles(Professor):\n",
        "    \"\"\"\n",
        "    Returns the most important articles in the field of given professor, based on the personalized PageRank scores.\n",
        "\n",
        "    Parameters:\n",
        "    Professor (str): Professor's name.\n",
        "\n",
        "    Returns:\n",
        "    List[str]: A list of article IDs representing the most important articles in the field of given professor.\n",
        "    \"\"\"\n",
        "    global G, papers\n",
        "\n",
        "    scores = pagerank(Professor)\n",
        "    return np.array(G.nodes())[np.argsort(scores)[-5:]]\n",
        "\n",
        "professors = ['Ali Sharifi-Zarchi', 'Shohreh Kasaei', 'Hamid R. Rabiee', 'Mohammad Hossein Rohban', 'Mahdieh Soleymani Baghshah']\n",
        "for professor in professors:\n",
        "    print(professor)\n",
        "    [print(article) for article in important_articles(professor)]\n",
        "    print(' -' * 10)"
      ]
    },
    {
      "attachments": {},
      "cell_type": "markdown",
      "metadata": {
        "collapsed": false,
        "id": "WrxNqeDQ9L0X",
        "pycharm": {
          "name": "#%% md\n"
        }
      },
      "source": [
        "<div dir=\"rtl\">\n",
        "<font face=\"XB Zar\" size=4>\n",
        "    <h1>\n",
        "    <b>جستجو شخصی‌سازی‌شده (۱۰ نمره)</b>\n",
        "    </h1>\n",
        "</font>\n",
        "    <br>\n",
        "<font face=\"XB Zar\" size=3>\n",
        "الگوریتم جست‌و‌جویی که در فازهای گذشته پیاده‌سازی کرده‌اید را به گونه‌ای تغییر دهید که نتایج به دست آمده جست‌و‌جو بر حسب علایق فرد مرتب شوند. از قضیه‌ی خطی بودن برای این کار استفاده کنید.\n",
        "    \n",
        "</font>\n",
        "</div>"
      ]
    },
    {
      "cell_type": "code",
      "execution_count": 4,
      "metadata": {
        "colab": {
          "base_uri": "https://localhost:8080/"
        },
        "id": "TNBFIi44ceyx",
        "outputId": "ff320c8a-0532-4a30-ba8e-e32bcf0cd886"
      },
      "outputs": [
        {
          "name": "stderr",
          "output_type": "stream",
          "text": [
            "[nltk_data] Downloading package punkt to\n",
            "[nltk_data]     /Users/arshiadadras/nltk_data...\n",
            "[nltk_data]   Package punkt is already up-to-date!\n",
            "[nltk_data] Downloading package stopwords to\n",
            "[nltk_data]     /Users/arshiadadras/nltk_data...\n",
            "[nltk_data]   Package stopwords is already up-to-date!\n"
          ]
        },
        {
          "data": {
            "text/plain": [
              "True"
            ]
          },
          "execution_count": 4,
          "metadata": {},
          "output_type": "execute_result"
        }
      ],
      "source": [
        "from nltk import word_tokenize\n",
        "import string\n",
        "import nltk\n",
        "\n",
        "nltk.download('punkt')\n",
        "nltk.download('stopwords')"
      ]
    },
    {
      "cell_type": "code",
      "execution_count": 5,
      "metadata": {
        "id": "HE0mYQ_IcZ9I"
      },
      "outputs": [],
      "source": [
        "def preprocess_text(text, minimum_length=1, stopword_removal=True, stopwords_domain=[], lower_case=True,\n",
        "                       punctuation_removal=True):\n",
        "\n",
        "    normalized_tokens = word_tokenize(text)\n",
        "\n",
        "    if stopword_removal:\n",
        "        # Remove stopwords in English and also the given domain stopwords\n",
        "        stopwords = [x.lower() for x in nltk.corpus.stopwords.words('english')]\n",
        "        domain_stopwords = [x.lower() for x in stopwords_domain]\n",
        "        normalized_tokens = [word for word in normalized_tokens if word.lower() not in domain_stopwords + stopwords]\n",
        "\n",
        "    if punctuation_removal:\n",
        "        # Remove punctuations\n",
        "        normalized_tokens = [word for word in normalized_tokens if word not in string.punctuation]\n",
        "\n",
        "    if lower_case:\n",
        "        # Convert everything to lowercase and filter based on a min length\n",
        "        normalized_tokens = [word.lower() for word in normalized_tokens if len(word) > minimum_length]\n",
        "    else:\n",
        "        normalized_tokens = [word for word in normalized_tokens if len(word) > minimum_length]\n",
        "\n",
        "    return normalized_tokens"
      ]
    },
    {
      "cell_type": "code",
      "execution_count": 6,
      "metadata": {
        "id": "z4jzxgMNdRGk"
      },
      "outputs": [],
      "source": [
        "from collections import defaultdict\n",
        "\n",
        "def construct_positional_indexes(corpus):\n",
        "    \"\"\"\n",
        "    Get processed data and insert words in that into a trie and construct postional_index and posting lists after wards.\n",
        "\n",
        "    Parameters\n",
        "    ----------\n",
        "    corpus: str\n",
        "        processed data\n",
        "\n",
        "    Return\n",
        "    ----------\n",
        "    docs:\n",
        "        list of docs with specificied id, title, abstract.\n",
        "    \"\"\"\n",
        "    postional_index = defaultdict(lambda: defaultdict(lambda: {'title': [], 'abstract': []}))\n",
        "    for paper_id, details in enumerate(corpus):\n",
        "        for label in ['title', 'abstract']:\n",
        "            for index, token in enumerate(details[label]):\n",
        "                postional_index[token][paper_id][label].append(index)\n",
        "\n",
        "    return postional_index\n",
        "\n",
        "corpus = []\n",
        "for paper in papers.values():\n",
        "    corpus.append({\n",
        "        'ID': paper['ID'],\n",
        "        'authors': paper['Authors'],\n",
        "        'references': paper['References'],\n",
        "        'title': preprocess_text(paper['Title'] if paper['Title'] else ''),\n",
        "        'abstract': preprocess_text(paper['Abstract'] if paper['Abstract'] else '')\n",
        "    })\n",
        "docs = construct_positional_indexes(corpus)"
      ]
    },
    {
      "cell_type": "code",
      "execution_count": 7,
      "metadata": {
        "id": "Zjf8prvNdBwA"
      },
      "outputs": [],
      "source": [
        "import math\n",
        "\n",
        "def get_idf(token):\n",
        "    df = len(docs[token])\n",
        "    return math.log10(len(corpus) / (df + 1))\n",
        "\n",
        "def get_logarithmic_tf(tf):\n",
        "    return 1 + math.log10(tf) if tf else 0\n",
        "\n",
        "def get_doc_scores(query_count, method, where):\n",
        "    doc_scores = defaultdict(int)\n",
        "    norm_factors = defaultdict(int)\n",
        "    average_doc_length = sum(len(details[where]) for details in corpus)\n",
        "\n",
        "    for token, count in query_count.items():\n",
        "        if token not in docs:\n",
        "            continue\n",
        "\n",
        "        for paper_id, details in docs[token].items():\n",
        "            if not details[where]:\n",
        "                continue\n",
        "\n",
        "            if method == 'ltn-lnn' or method == 'ltc-lnc':\n",
        "                doc_coeff = get_idf(token) * get_logarithmic_tf(len(details[where]))\n",
        "                doc_scores[paper_id] += get_logarithmic_tf(count) * doc_coeff\n",
        "\n",
        "                if method == 'ltc-lnc':\n",
        "                    norm_factors[paper_id] += doc_coeff ** 2\n",
        "\n",
        "            if method == 'okapi25':\n",
        "                k1, b = 1.5, .75\n",
        "                tf_token = len(details[where])\n",
        "                doc_scores[paper_id] += (k1 + 1) * get_idf(token) * tf_token / (k1 * (1 - b * (1 - len(corpus[paper_id][where]) / average_doc_length)) + tf_token)\n",
        "                pass\n",
        "\n",
        "    if method == 'ltc-lnc':\n",
        "        for paper_id in doc_scores:\n",
        "            doc_scores[paper_id] /= math.sqrt(norm_factors[paper_id])\n",
        "    return doc_scores"
      ]
    },
    {
      "cell_type": "code",
      "execution_count": 8,
      "metadata": {
        "colab": {
          "base_uri": "https://localhost:8080/"
        },
        "id": "m7k2bS_T9L0X",
        "outputId": "8df5adc5-59c6-4dd1-cd05-76555b0a318a",
        "pycharm": {
          "name": "#%%\n"
        }
      },
      "outputs": [
        {
          "name": "stdout",
          "output_type": "stream",
          "text": [
            "4a6c5c9b1fb106f7d82508ae593d30e207c8ea45\n",
            "0b5b33b7ea1dc12f3e9252ac1852170a6a6775bf\n",
            "d5c6edb53dc41f298f145041cd2c53e40e3acf2b\n",
            "c26e4b47660692e500ad5afb5225e62b58b2e411\n",
            "c89bfd998b0a6c656010b629814ab0cad3cff72e\n"
          ]
        }
      ],
      "source": [
        "from typing import List, Tuple\n",
        "\n",
        "\n",
        "def search(title_query: str, abstract_query: str, max_result_count: int, method: str = 'ltn-lnn', weight: float = 0.5,\n",
        "           print=False, preferred_field: str = None):\n",
        "    \"\"\"\n",
        "        Finds relevant documents to query\n",
        "\n",
        "        Parameters\n",
        "        ---------------------------------------------------------------------------------------------------\n",
        "        max_result_count: Return top 'max_result_count' docs which have the highest scores.\n",
        "                          notice that if max_result_count = -1, then you have to return all docs\n",
        "\n",
        "        mode: 'detailed' for searching in title and text separately.\n",
        "              'overall' for all words, and weighted by where the word appears on.\n",
        "\n",
        "        where: when mode ='detailed', when we want search query\n",
        "                in title or text not both of them at the same time.\n",
        "\n",
        "        method: 'ltn-lnn' or 'ltc-lnc' or 'okapi25'\n",
        "\n",
        "        preferred_field: A list containing preference rate to Dr. Rabiee, Dr. Soleymani, Dr. Rohban,\n",
        "                         Dr. Kasaei, and Dr. Sharifi's papers, respectively.\n",
        "\n",
        "        Returns\n",
        "        ----------------------------------------------------------------------------------------------------\n",
        "        list\n",
        "        Retrieved documents with snippet\n",
        "    \"\"\"\n",
        "    title = preprocess_text(title_query)\n",
        "    abstract = preprocess_text(abstract_query)\n",
        "\n",
        "    title_count = defaultdict(int)\n",
        "    abstract_count = defaultdict(int)\n",
        "    for token in title:\n",
        "        title_count[token] += 1\n",
        "    for token in abstract:\n",
        "        abstract_count[token] += 1\n",
        "\n",
        "    title_doc_score = get_doc_scores(title_count, method, 'title')\n",
        "    abstract_doc_score = get_doc_scores(abstract_count, method, 'abstract')\n",
        "\n",
        "    total_doc_scores = {}\n",
        "    for paper_id in range(len(corpus)):\n",
        "        title_score = title_doc_score[paper_id]\n",
        "        abstract_score = abstract_doc_score[paper_id]\n",
        "        total_doc_scores[paper_id] = weight * title_score + (1 - weight) * abstract_score\n",
        "\n",
        "    result = sorted(list(range(len(corpus))), key=lambda paper_id: total_doc_scores[paper_id], reverse=True)\n",
        "    if preferred_field:\n",
        "        result = list(filter(lambda paper_id: set(corpus[paper_id]['authors']) & set(preferred_field), result))\n",
        "    return result[:max_result_count]\n",
        "\n",
        "for paper in np.array(corpus)[search('Color Segmentation', 'new technique for segmenting images', 5)]:\n",
        "    print(paper['ID'])"
      ]
    },
    {
      "attachments": {},
      "cell_type": "markdown",
      "metadata": {
        "collapsed": false,
        "id": "N33XlfmI9L0X",
        "pycharm": {
          "name": "#%% md\n"
        }
      },
      "source": [
        "<div dir=\"rtl\" style=\"text-align: justify\">\n",
        "<font face=\"XB Zar\" size=4>\n",
        "    <h1>\n",
        "    <b>رتبه‌بندی نویسندگان (۲۵ نمره)</b>\n",
        "    </h1>\n",
        "</font>\n",
        "    <br>\n",
        "<font face=\"XB Zar\" size=3>  \n",
        "    برای رتبه‌بندی نویسندگان، مفهوم ارجاع نویسندگان به یکدیگر مطرح می‌شود. زمانی که نویسنده A در مقاله خود به مقاله P که نویسنده B جزو نویسندگان آن مقاله یعنی مقاله P می‌باشد، ارجاع دهد، می‌گوییم که نویسنده A به نویسنده B ارجاع داده است. با توجه به این رابطه، می‌توان گراف ارجاعات بین نویسندگان را ایجاد و سپس با استفاده از الگوریتم HITS\n",
        "نویسندگان را رتبه‌بندی کرد. برای رتبه‌بندی نیاز است تا از شاخص‌های hub و authority استفاده کنیم.\n",
        "\n",
        "\n",
        "</font>\n",
        "</div>"
      ]
    },
    {
      "cell_type": "code",
      "execution_count": 9,
      "metadata": {
        "colab": {
          "base_uri": "https://localhost:8080/"
        },
        "id": "AJG5LVzv9L0X",
        "outputId": "ddfa0843-65d4-4df4-91d5-98aea0ee4827",
        "pycharm": {
          "name": "#%%\n"
        }
      },
      "outputs": [
        {
          "name": "stdout",
          "output_type": "stream",
          "text": [
            "['Seyed Mojtaba Marvasti-Zadeh', 'Shohreh Kasaei']\n"
          ]
        }
      ],
      "source": [
        "import networkx as nx\n",
        "\n",
        "def get_paper_by_id(papers, paper_id):\n",
        "    for paper in papers:\n",
        "        if paper['ID'] == paper_id:\n",
        "            return paper\n",
        "    return None\n",
        "\n",
        "def hit_algorithm(papers, n):\n",
        "    \"\"\"\n",
        "        Implementing the HITS algorithm to score authors based on their papers and co-authors.\n",
        "\n",
        "        Parameters\n",
        "        ---------------------------------------------------------------------------------------------------\n",
        "        papers: A list of paper dictionaries with the following keys:\n",
        "                \"id\": A unique ID for the paper\n",
        "                \"title\": The title of the paper\n",
        "                \"abstract\": The abstract of the paper\n",
        "                \"date\": The year in which the paper was published\n",
        "                \"authors\": A list of the names of the authors of the paper\n",
        "                \"related_topics\": A list of IDs for related topics (optional)\n",
        "                \"citation_count\": The number of times the paper has been cited (optional)\n",
        "                \"reference_count\": The number of references in the paper (optional)\n",
        "                \"references\": A list of IDs for papers that are cited in the paper (optional)\n",
        "        n: An integer representing the number of top authors to return.\n",
        "\n",
        "        Returns\n",
        "        ---------------------------------------------------------------------------------------------------\n",
        "        List\n",
        "        list of the top n authors based on their hub scores.\n",
        "    \"\"\"\n",
        "    # Create a graph of authors and papers (all of the authors and papers represented as nodes, and all of the authors who wrote each paper connected to the corresponding paper node by an edge)\n",
        "    edges = []\n",
        "    for paper in papers:\n",
        "        for reference in paper['references']:\n",
        "            reference_paper = get_paper_by_id(papers, reference)\n",
        "            if reference_paper is None:\n",
        "                continue\n",
        "\n",
        "            for author1 in paper['authors']:\n",
        "                for author2 in reference_paper['authors']:\n",
        "                    edges.append((author1, author2))\n",
        "    G = nx.DiGraph(edges)\n",
        "\n",
        "    # Run the HITS algorithm\n",
        "    hubs, authorities = nx.hits(G, max_iter = 50, normalized = True)\n",
        "\n",
        "    # Create a list of top n authors based on their hub scores\n",
        "    result = sorted(hubs.items(), key=lambda x:x[1])[-n:]\n",
        "    top_authors = [data[0] for data in result]\n",
        "    return top_authors\n",
        "\n",
        "\n",
        "# call the hit_algorithm function\n",
        "top_authors = hit_algorithm(corpus, 2)\n",
        "\n",
        "# print the top authors\n",
        "print(top_authors)\n"
      ]
    },
    {
      "attachments": {},
      "cell_type": "markdown",
      "metadata": {
        "collapsed": false,
        "id": "WOj2Bpf49L0Y",
        "pycharm": {
          "name": "#%% md\n"
        }
      },
      "source": [
        "<div dir=\"rtl\">\n",
        "<font face=\"XB Zar\" size=4>\n",
        "    <h1>\n",
        "    <b>سیستم پیشنهادگر (۲۰ نمره)</b>\n",
        "    </h1>\n",
        "</font>\n",
        "<font face=\"XB Zar\" size=3>\n",
        "\n",
        "در این بخش سعی می‌کنیم که یک سیستم پیشنهادگر مقالات بر اساس جست‌و‌جو‌ها یا علايق یک کاربر پیاده‌سازی کنیم، سیستم پیشنهاد دهنده‌ای که قصد داریم آن را ایجاد کنیم،‌ باید بتواند بر اساس لیستی از مقالاتی که کاربر قبلا آن‌ها را مطالعه کرده یا به آن‌ها علاقه داشته است، مقالات تازه انتشار یافته‌‌ی جدید را به کاربر پیشنهاد دهد.\n",
        "\n",
        "در فایل recommended_papers.json\n",
        "لیستی از کاربران قرار دارد که در فیلد positive_papers هر کاربر،\n",
        "تعداد ۵۰ مقاله از مقالاتی که کاربر به آن‌ها علاقه داشته است مشخص شده است. و همچینین در فیلد recommendedPapers هر کاربر تعداد ۱۰ مقاله به ترتیب اهمیت، از مقالات جدیدی که کاربر آن‌ها را پسندیده است قرار دارد.\n",
        "\n",
        "در این بخش هدف شما یادگیری سیستم پیشنهاد‌ دهنده بر اساس همین داده‌ها می‌باشد، و به عبارتی شما بایستی کاربر‌ها را به دو دسته آموزش و آزمایش تقسیم کنید، و بر اساس داده‌های آموزشی بتوانید مقالات جدید مورد پسند کاربرهای آزمایش را پیش‌بینی کنید. (بنابراین در این پیش‌بینی نمی‌توانید از فیلد recommendedPapers این کاربران استفاده کنید.)\n",
        "\n",
        "</font>\n",
        "</div>"
      ]
    },
    {
      "cell_type": "code",
      "execution_count": 10,
      "metadata": {
        "id": "k4yGl_fc9L0Y",
        "pycharm": {
          "name": "#%%\n"
        }
      },
      "outputs": [],
      "source": [
        "import json\n",
        "\n",
        "with open('recommended_papers.json', 'r') as fp:\n",
        "    recommended_papers = json.load(fp)"
      ]
    },
    {
      "cell_type": "code",
      "execution_count": 11,
      "metadata": {
        "id": "HSPT8uxo9L0Y",
        "pycharm": {
          "name": "#%%\n"
        }
      },
      "outputs": [],
      "source": [
        "sample_user = recommended_papers[0]"
      ]
    },
    {
      "cell_type": "code",
      "execution_count": 12,
      "metadata": {
        "colab": {
          "base_uri": "https://localhost:8080/"
        },
        "id": "l2NiJ0qF9L0Y",
        "outputId": "287727af-acb7-4402-d4a4-3836ce5e4ef9",
        "pycharm": {
          "name": "#%%\n"
        }
      },
      "outputs": [
        {
          "name": "stdout",
          "output_type": "stream",
          "text": [
            "d9404b4a794c07b5e2cdf3203aabf06d70c6be9b\n",
            "CENTAURO: A Hybrid Locomotion and High Power Resilient Manipulation Platform\n",
            "Despite the development of a large number of mobile manipulation robots, very few platforms can demonstrate the required strength and mechanical sturdiness to accommodate the needs of real-world applications with high payload and moderate/harsh physical interaction demands, e.g., in disaster-response scenarios or heavy logistics/collaborative tasks. In this letter, we introduce the design of a wheeled-legged mobile manipulation platform capable of executing demanding manipulation tasks, and demonstrating significant physical resilience while possessing a body size (height/width) and weight compatible to that of a human. The achieved performance is the result of combining a number of design and implementation principles related to the actuation system, the integration of body structure and actuation, and the wheeled-legged mobility concept. These design principles are discussed, and the solutions adopted for various robot components are detailed. Finally, the robot performance is demonstrated in a set of experiments validating its power and strength capability when manipulating heavy payload and executing tasks involving high impact physical interactions.\n",
            "['Computer Science']\n"
          ]
        }
      ],
      "source": [
        "print(sample_user['positive_papers'][0]['paperId'])\n",
        "print(sample_user['positive_papers'][0]['title'])\n",
        "print(sample_user['positive_papers'][0]['abstract'])\n",
        "print(sample_user['positive_papers'][0]['fieldsOfStudy'])"
      ]
    },
    {
      "cell_type": "code",
      "execution_count": 13,
      "metadata": {
        "colab": {
          "base_uri": "https://localhost:8080/"
        },
        "id": "PtdVXUm29L0Y",
        "outputId": "dcc3a2ab-f11d-4933-e43c-d7f535d4ea2b",
        "pycharm": {
          "name": "#%%\n"
        }
      },
      "outputs": [
        {
          "name": "stdout",
          "output_type": "stream",
          "text": [
            "94eebbefe8a37cf394be899b85af295c2e3a1f01\n",
            "Efficient Parametric Approximations of Neural Network Function Space Distance\n",
            "It is often useful to compactly summarize important properties of model parameters and training data so that they can be used later without storing and/or iterating over the entire dataset. As a specific case, we consider estimating the Function Space Distance (FSD) over a training set, i.e. the average discrepancy between the outputs of two neural networks. We propose a Linearized Activation Function TRick (LAFTR) and derive an efficient approximation to FSD for ReLU neural networks. The key idea is to approximate the architecture as a linear network with stochastic gating. Despite requiring only one parameter per unit of the network, our approach outcompetes other parametric approximations with larger memory requirements. Applied to continual learning, our parametric approximation is competitive with state-of-the-art nonparametric approximations, which require storing many training examples. Furthermore, we show its efficacy in estimating influence functions accurately and detecting mislabeled examples without expensive iterations over the entire dataset.\n",
            "['Computer Science', 'Mathematics']\n"
          ]
        }
      ],
      "source": [
        "print(sample_user['recommendedPapers'][0]['paperId'])\n",
        "print(sample_user['recommendedPapers'][0]['title'])\n",
        "print(sample_user['recommendedPapers'][0]['abstract'])\n",
        "print(sample_user['recommendedPapers'][0]['fieldsOfStudy'])"
      ]
    },
    {
      "cell_type": "code",
      "execution_count": 14,
      "metadata": {
        "id": "dSbncyvwjMBD"
      },
      "outputs": [],
      "source": [
        "import random\n",
        "\n",
        "random.shuffle(recommended_papers)\n",
        "train_data, test_data = recommended_papers[:-100], recommended_papers[-100:]"
      ]
    },
    {
      "cell_type": "code",
      "execution_count": 15,
      "metadata": {
        "id": "V20G7rygjcJF"
      },
      "outputs": [],
      "source": [
        "import pandas as pd\n",
        "\n",
        "fields = []\n",
        "for user in train_data:\n",
        "    for paper in user['positive_papers']:\n",
        "        if paper['fieldsOfStudy'] is not None:\n",
        "            fields += paper['fieldsOfStudy']\n",
        "for user in test_data:\n",
        "    for paper in user['positive_papers']:\n",
        "        if paper['fieldsOfStudy'] is not None:\n",
        "            fields += paper['fieldsOfStudy']\n",
        "\n",
        "X_train = []\n",
        "for user in train_data:\n",
        "    field_of_study = {field: 0 for field in fields}\n",
        "    for paper in user['positive_papers']:\n",
        "        if paper['fieldsOfStudy'] is not None:\n",
        "            for field in paper['fieldsOfStudy']:\n",
        "                field_of_study[field] += 1\n",
        "    X_train.append(field_of_study)\n",
        "\n",
        "X_test = []\n",
        "for user in test_data:\n",
        "    field_of_study = {field: 0 for field in fields}\n",
        "    for paper in user['positive_papers']:\n",
        "        if paper['fieldsOfStudy'] is not None:\n",
        "            for field in paper['fieldsOfStudy']:\n",
        "                field_of_study[field] += 1\n",
        "    X_test.append(field_of_study)\n",
        "\n",
        "X_train = pd.DataFrame(X_train).fillna(0).astype(float)\n",
        "X_test = pd.DataFrame(X_test).fillna(0).astype(float)\n",
        "y_train = [[paper['paperId'] for paper in user['recommendedPapers']] for user in train_data]\n",
        "y_test = [[paper['paperId'] for paper in user['recommendedPapers']] for user in test_data]"
      ]
    },
    {
      "attachments": {},
      "cell_type": "markdown",
      "metadata": {
        "collapsed": false,
        "id": "yjvxgzGE9L0Y",
        "pycharm": {
          "name": "#%% md\n"
        }
      },
      "source": [
        "<div dir=\"rtl\">\n",
        "<font face=\"XB Zar\" size=4>\n",
        "    <h2>\n",
        "    <b>روش Collaborative Filtering (۱۰ نمره)</b>\n",
        "    </h2>\n",
        "</font>\n",
        "<font face=\"XB Zar\" size=3>\n",
        "\n",
        "در این راهکار سعی می‌کنیم با استفاده از کاربران مشابه با یک کاربر، سلیقه‌ی او را حدس بزنیم و مقالاتی را که کاربران مشابه دیده‌اند را به کاربر نمایش دهیم.\n",
        "\n",
        "در این روش ابتدا باید $N$ کاربر که سلیقه‌ی مشابه با کاربر $x$ دارند را پیدا کنید، و با ترکیب لیست مقالات جدید مورد علاقه‌ی آن $N$ کاربر مشابه،\n",
        " ۱۰ مقاله‌ به کاربر $x$ پیشنهاد دهید.\n",
        "\n",
        "توجه داشته باشید که برای اینکه شباهت دو کاربر را پیدا کنید، باید cosine_similarity بین بردار زمینه‌های مورد علاقه‌ی دو کاربر استفاده کنید. این بردار از $M$ درایه تشکیل شده است، که $M$ تعداد زمینه‌های یکتاییست که در داده‌ها وجود دارد. و در این بردار درایه‌ی $j$ام\n",
        "نشان دهنده‌ی نسبت تعداد مقالات خوانده‌ی شده‌ کاربر در زمینه‌ی $j$ به تعداد کل مقاله‌های خوانده شده توسط او می‌باشد. (توجه کنید که هر مقاله می‌تواند چند زمینه داشته باشد و بنابراین حاصل جمع درایه‌های این بردار الزاما یک نمی‌باشد)\n",
        "\n",
        "</font>\n",
        "</div>"
      ]
    },
    {
      "cell_type": "code",
      "execution_count": 16,
      "metadata": {
        "id": "njl_P_z_mJZ0"
      },
      "outputs": [],
      "source": [
        "def cos_sim(a, b):\n",
        "    return np.dot(a, b) / np.linalg.norm(a) / np.linalg.norm(b)"
      ]
    },
    {
      "cell_type": "code",
      "execution_count": 17,
      "metadata": {
        "colab": {
          "base_uri": "https://localhost:8080/"
        },
        "id": "8C29t79_9L0Y",
        "outputId": "67f07b14-ef6f-443d-a56b-85fac46dad56",
        "pycharm": {
          "name": "#%%\n"
        }
      },
      "outputs": [
        {
          "data": {
            "text/plain": [
              "['94eebbefe8a37cf394be899b85af295c2e3a1f01',\n",
              " '7d03af1ccf5404e23bee02903b41850e88cc8590',\n",
              " '355a88ee6967af23512f85f947270cf9d81ea098',\n",
              " '79f43d149cd569abf46428ed8a27a8a2b3e44a8f',\n",
              " '1d36e7ba19be5db9694ed256ea21dae5f753ede3',\n",
              " '682ff0690c87a31c6bc148e53f56b5b494621d66',\n",
              " '555e1eb9a171b70309c84d5c5db71e78e255c403',\n",
              " '62f3ecee1135503bb2cab776e915281521ef2f3a',\n",
              " '89e049e37d5bb0b66929727e365c07b9382cbebb',\n",
              " 'a23b8f072625d6481ead4c8b6193f01cdddd7fe0']"
            ]
          },
          "execution_count": 17,
          "metadata": {},
          "output_type": "execute_result"
        }
      ],
      "source": [
        "def collaborative_filtering(user_id: int, N=10):\n",
        "    \"\"\"\n",
        "    Returns the top 10 related articles to the user, based on similar users (Similar users should be on \"train data\").\n",
        "\n",
        "    Parameters:\n",
        "    user_id (int): The unique index of the user.\n",
        "    N: The number of hyperparameter N in Nearest Neighbor algorithm.\n",
        "\n",
        "    Returns:\n",
        "    List[str]: A list of 10 article IDs that are most relevant to the user's interests.\n",
        "    \"\"\"\n",
        "    distances = [cos_sim(x_train, X_test.values[user_id]) for x_train in X_train.values]\n",
        "    neighbors = [y_train[nearest_neighbor_id] for nearest_neighbor_id in np.argsort(distances)[-N:]]\n",
        "\n",
        "    paper_ids = defaultdict(int)\n",
        "    for neighbor in neighbors:\n",
        "        for paper_id in neighbor:\n",
        "            paper_ids[paper_id] += 1\n",
        "\n",
        "    return list({k: v for k, v in sorted(paper_ids.items(), key=lambda item: item[1], reverse=True)}.keys())[:10]\n",
        "\n",
        "collaborative_filtering(1)"
      ]
    },
    {
      "attachments": {},
      "cell_type": "markdown",
      "metadata": {
        "collapsed": false,
        "id": "rDAXQ97M9L0Y",
        "pycharm": {
          "name": "#%% md\n"
        }
      },
      "source": [
        "<div dir=\"rtl\">\n",
        "<font face=\"XB Zar\" size=4>\n",
        "    <h2>\n",
        "    <b>روش Content Based (۱۰ نمره)</b>\n",
        "    </h2>\n",
        "</font>\n",
        "<font face=\"XB Zar\" size=3>\n",
        "\n",
        "در این روش با استفاده از مقالات قبلی که کاربر آن‌ها را پسندیده است، به کاربر مقاله‌ی جدید پیشنهاد می‌دهیم.\n",
        "\n",
        "برای اینکار ابتدا تمام مقالات پیشنهاد شده برای تمام کاربرها را سر جمع کنید. (در واقع مدلی که پیاده‌سازی می‌کنید نباید بداند که به کدام کاربر چه مقالاتی پیشنهاد شده است)\n",
        "\n",
        "سپس بردار tf-idf برای تایتل هر یک از مقالات را ایجاد کنید، و میانگین بردار مقالات مورد علاقه‌ی هر فرد را با لیستی که از مقالات جدید سر جمع کردید مقایسه کنید و ۱۰ تا از شبیه‌ترین مقالات را خروجی دهید.\n",
        "\n",
        "</font>\n",
        "</div>"
      ]
    },
    {
      "cell_type": "code",
      "execution_count": 18,
      "metadata": {
        "id": "TxQzUOY5omUl"
      },
      "outputs": [],
      "source": [
        "from sklearn.feature_extraction.text import CountVectorizer\n",
        "\n",
        "titles = []\n",
        "paper_ids = []\n",
        "for user in recommended_papers:\n",
        "    for paper in user['recommendedPapers']:\n",
        "        titles.append(paper['title'])\n",
        "        paper_ids.append(paper['paperId'])\n",
        "papers = pd.DataFrame({\"paperId\" : paper_ids, \"title\": titles})\n",
        "\n",
        "vect = CountVectorizer()\n",
        "vects = vect.fit_transform(papers['title'])\n",
        "\n",
        "td = pd.DataFrame(vects.todense())\n",
        "td.columns = vect.get_feature_names_out()\n",
        "term_document_matrix = td.T\n",
        "term_document_matrix.columns = papers['paperId']\n",
        "td_matrix = term_document_matrix.T\n",
        "td_matrix.drop_duplicates(inplace=True)"
      ]
    },
    {
      "cell_type": "code",
      "execution_count": 19,
      "metadata": {
        "colab": {
          "base_uri": "https://localhost:8080/"
        },
        "id": "x_zHrJgQ9L0Y",
        "outputId": "573f229e-6084-4db5-dc8a-b70eec36d6d9",
        "pycharm": {
          "name": "#%%\n"
        }
      },
      "outputs": [
        {
          "data": {
            "text/plain": [
              "['5ef397538a5647fafbc29052dc792c7c46fcdfed',\n",
              " '0ae185a29393d29373cae39ef107f74018ce62a9',\n",
              " 'c473e86506ed69fb7baf16361d304028325905ce',\n",
              " 'f5af01e6b891f4e4c1309a3e9fa60627b5509a59',\n",
              " '7a86bdac63e12a12033e67572a7a0bc7ff642b79',\n",
              " '36ef2340ee034f43cde94f845bddaf4460f86072',\n",
              " 'dfc2e953584a2559aad2aea205188124bd8b258d',\n",
              " '839fcb7c0b890fd46c36f48501b74a4ae4ea0ba7',\n",
              " '4f2ae5fa2dc74af9c36ee57b359a4b3241006a92',\n",
              " '89e049e37d5bb0b66929727e365c07b9382cbebb']"
            ]
          },
          "execution_count": 19,
          "metadata": {},
          "output_type": "execute_result"
        }
      ],
      "source": [
        "def content_based_recommendation(user_id):\n",
        "    \"\"\"\n",
        "    Returns the top 10 related articles to the user, based on the titles of the articles.\n",
        "\n",
        "    Parameters:\n",
        "    user_id (int): The unique index of the user.\n",
        "\n",
        "    Returns:\n",
        "    List[str]: A list of 10 article IDs that are most relevant to the user's interests.\n",
        "    \"\"\"\n",
        "    mean = None\n",
        "    for paper in test_data[user_id]['recommendedPapers']:\n",
        "        if mean is None:\n",
        "            mean = td_matrix.loc[paper['paperId']]\n",
        "        else:\n",
        "            mean += td_matrix.loc[paper['paperId']]\n",
        "\n",
        "    distances = [cos_sim(mean / 10, td) for td in td_matrix.values]\n",
        "    neighbors = [td_matrix.iloc[nearest_neighbor_id].name for nearest_neighbor_id in np.argsort(distances)[:10]]\n",
        "\n",
        "    return neighbors\n",
        "\n",
        "content_based_recommendation(0)"
      ]
    },
    {
      "attachments": {},
      "cell_type": "markdown",
      "metadata": {
        "collapsed": false,
        "id": "dOb4PiFi9L0Y",
        "pycharm": {
          "name": "#%% md\n"
        }
      },
      "source": [
        "<div dir=\"rtl\">\n",
        "<font face=\"XB Zar\" size=4>\n",
        "    <h2>\n",
        "    <b>ارزیابی سیستم‌های پیشنهادگر</b>\n",
        "    </h2>\n",
        "</font>\n",
        "<font face=\"XB Zar\" size=3>\n",
        "\n",
        "در این بخش سیستم‌های پیشنهادگری را که پیاده کرده‌اید را با استفاده از معیار nDCG و با استفاده از دادگان واقعی از علایق کاربران نسبت به مقالات جدید ارزیابی کنید و نتایج حاصل از دو روش را با هم مقایسه کنید.\n",
        "\n",
        "</font>\n",
        "</div>"
      ]
    },
    {
      "cell_type": "code",
      "execution_count": 20,
      "metadata": {
        "colab": {
          "base_uri": "https://localhost:8080/"
        },
        "id": "mSV0DQSx9L0Z",
        "outputId": "88595244-45fa-48bb-f2e1-5b6efd4a86be",
        "pycharm": {
          "is_executing": true,
          "name": "#%%\n"
        }
      },
      "outputs": [
        {
          "name": "stdout",
          "output_type": "stream",
          "text": [
            "[0.02       0.0126186  0.01       0.03014736 0.00773706 0.00356207\n",
            " 0.00333333 0.01577324 0.0030103  0.        ]\n",
            "[0.43       0.18296963 0.125      0.10766914 0.09284467 0.06767937\n",
            " 0.07333333 0.05993833 0.0571957  0.04914102]\n"
          ]
        }
      ],
      "source": [
        "def ndcg_score(actual, predicted):\n",
        "    ndcg = []\n",
        "    for i, p in enumerate(predicted):\n",
        "        dcg = []\n",
        "        for j in range(len(predicted[i])):\n",
        "            if predicted[i][j] in actual[i]:\n",
        "                dcg.append(1 / math.log2(j + 2))\n",
        "            else:\n",
        "                dcg.append(0)\n",
        "        ndcg.append(dcg)\n",
        "    return np.mean(ndcg, axis=0)\n",
        "\n",
        "content_predicted = [content_based_recommendation(i) for i in range(len(test_data))]\n",
        "collaborative_predicted = [collaborative_filtering(i) for i in range(len(test_data))]\n",
        "\n",
        "print(ndcg_score(y_train, content_predicted))\n",
        "print(ndcg_score(y_train, collaborative_predicted))"
      ]
    },
    {
      "attachments": {},
      "cell_type": "markdown",
      "metadata": {
        "collapsed": false,
        "id": "9uqJOSrN9L0Z",
        "pycharm": {
          "name": "#%% md\n"
        }
      },
      "source": [
        "<div dir=\"rtl\" style=\"text-align: justify\">\n",
        "<font face=\"XB Zar\" size=4>\n",
        "    <h1>\n",
        "    <b>رابط کاربری (تا ۱۰ نمره)</b>\n",
        "    </h1>\n",
        "</font>\n",
        "    <br>\n",
        "<font face=\"XB Zar\" size=3>\n",
        "در این بخش\n",
        " باید یک واسط کاربری ساده برای اجرای تعاملی بخش‌های مختلف سیستم که از فاز ۱ ساخته‌اید و همچنین مشاهده نتایج پیاده‌سازی کنید. در صورت پیاده سازی زیبا و بهتر رابط کاربری تا ده نمره نمره امتیازی نیز در نظر گرفته خواهد شد.\n",
        "</font>\n",
        "</div>"
      ]
    },
    {
      "cell_type": "code",
      "execution_count": null,
      "metadata": {
        "id": "30Ma0hC59L0a",
        "pycharm": {
          "name": "#%%\n"
        }
      },
      "outputs": [],
      "source": []
    }
  ],
  "metadata": {
    "colab": {
      "provenance": []
    },
    "kernelspec": {
      "display_name": "Python 3 (ipykernel)",
      "language": "python",
      "name": "python3"
    },
    "language_info": {
      "codemirror_mode": {
        "name": "ipython",
        "version": 3
      },
      "file_extension": ".py",
      "mimetype": "text/x-python",
      "name": "python",
      "nbconvert_exporter": "python",
      "pygments_lexer": "ipython3",
      "version": "3.11.3"
    },
    "vscode": {
      "interpreter": {
        "hash": "08ac30a6a1fd2e576b33e03f7d61c3a285d7ee0582c2dd23dde6343ef303ebe9"
      }
    }
  },
  "nbformat": 4,
  "nbformat_minor": 0
}
